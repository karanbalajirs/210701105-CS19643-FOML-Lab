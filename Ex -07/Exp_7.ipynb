{
  "nbformat": 4,
  "nbformat_minor": 0,
  "metadata": {
    "colab": {
      "provenance": []
    },
    "kernelspec": {
      "name": "python3",
      "display_name": "Python 3"
    },
    "language_info": {
      "name": "python"
    }
  },
  "cells": [
    {
      "cell_type": "code",
      "execution_count": 3,
      "metadata": {
        "id": "FRmaNi7qX2cG"
      },
      "outputs": [],
      "source": [
        "import math\n",
        "import random\n",
        "import pandas as pd\n",
        "import numpy as np\n"
      ]
    },
    {
      "cell_type": "code",
      "source": [
        "def encode_class(mydata):\n",
        "\tclasses = []\n",
        "\tfor i in range(len(mydata)):\n",
        "\t\tif mydata[i][-1] not in classes:\n",
        "\t\t\tclasses.append(mydata[i][-1])\n",
        "\tfor i in range(len(classes)):\n",
        "\t\tfor j in range(len(mydata)):\n",
        "\t\t\tif mydata[j][-1] == classes[i]:\n",
        "\t\t\t\tmydata[j][-1] = i\n",
        "\treturn mydata\n"
      ],
      "metadata": {
        "id": "nmFzr3ONX328"
      },
      "execution_count": 4,
      "outputs": []
    },
    {
      "cell_type": "code",
      "source": [
        "def splitting(mydata, ratio):\n",
        "\ttrain_num = int(len(mydata) * ratio)\n",
        "\ttrain = []\n",
        "\ttest = list(mydata)\n",
        "\twhile len(train) < train_num:\n",
        "\t\tindex = random.randrange(len(test))\n",
        "\t\ttrain.append(test.pop(index))\n",
        "\treturn train, test\n"
      ],
      "metadata": {
        "id": "i0wOThyxYbhe"
      },
      "execution_count": 5,
      "outputs": []
    },
    {
      "cell_type": "code",
      "source": [
        "def groupUnderClass(mydata):\n",
        "\tdata_dict = {}\n",
        "\tfor i in range(len(mydata)):\n",
        "\t\tif mydata[i][-1] not in data_dict:\n",
        "\t\t\tdata_dict[mydata[i][-1]] = []\n",
        "\t\tdata_dict[mydata[i][-1]].append(mydata[i])\n",
        "\treturn data_dict"
      ],
      "metadata": {
        "id": "clpivkz5Yb8X"
      },
      "execution_count": 6,
      "outputs": []
    },
    {
      "cell_type": "code",
      "source": [
        "def MeanAndStdDev(numbers):\n",
        "\tavg = np.mean(numbers)\n",
        "\tstddev = np.std(numbers)\n",
        "\treturn avg, stddev\n",
        "\n",
        "def MeanAndStdDevForClass(mydata):\n",
        "\tinfo = {}\n",
        "\tdata_dict = groupUnderClass(mydata)\n",
        "\tfor classValue, instances in data_dict.items():\n",
        "\t\tinfo[classValue] = [MeanAndStdDev(attribute) for attribute in zip(*instances)]\n",
        "\treturn info\n"
      ],
      "metadata": {
        "id": "xIPAOhPwYgKh"
      },
      "execution_count": 7,
      "outputs": []
    },
    {
      "cell_type": "code",
      "source": [
        "def calculateGaussianProbability(x, mean, stdev):\n",
        "\tepsilon = 1e-10\n",
        "\texpo = math.exp(-(math.pow(x - mean, 2) / (2 * math.pow(stdev + epsilon, 2))))\n",
        "\treturn (1 / (math.sqrt(2 * math.pi) * (stdev + epsilon))) * expo\n",
        "\n",
        "def calculateClassProbabilities(info, test):\n",
        "\tprobabilities = {}\n",
        "\tfor classValue, classSummaries in info.items():\n",
        "\t\tprobabilities[classValue] = 1\n",
        "\t\tfor i in range(len(classSummaries)):\n",
        "\t\t\tmean, std_dev = classSummaries[i]\n",
        "\t\t\tx = test[i]\n",
        "\t\t\tprobabilities[classValue] *= calculateGaussianProbability(x, mean, std_dev)\n",
        "\treturn probabilities\n"
      ],
      "metadata": {
        "id": "gC2qj-vtYjYZ"
      },
      "execution_count": 8,
      "outputs": []
    },
    {
      "cell_type": "code",
      "source": [
        "def predict(info, test):\n",
        "\tprobabilities = calculateClassProbabilities(info, test)\n",
        "\tbestLabel = max(probabilities, key=probabilities.get)\n",
        "\treturn bestLabel\n",
        "\n",
        "def getPredictions(info, test):\n",
        "\tpredictions = [predict(info, instance) for instance in test]\n",
        "\treturn predictions\n"
      ],
      "metadata": {
        "id": "PBo510ABZ5ZA"
      },
      "execution_count": 14,
      "outputs": []
    },
    {
      "cell_type": "code",
      "source": [
        "def accuracy_rate(test, predictions):\n",
        "\tcorrect = sum(1 for i in range(len(test)) if test[i][-1] == predictions[i])\n",
        "\treturn (correct / float(len(test))) * 100.0\n"
      ],
      "metadata": {
        "id": "wMX2SttPYj0J"
      },
      "execution_count": 9,
      "outputs": []
    },
    {
      "cell_type": "code",
      "source": [
        "# Load data using pandas\n",
        "filename = '/pima-indians-diabetes.csv'\n",
        "df = pd.read_csv(filename)\n",
        "mydata = df.values.tolist()\n",
        "\n",
        "# Encode classes and convert attributes to float\n",
        "mydata = encode_class(mydata)\n",
        "for i in range(len(mydata)):\n",
        "\tfor j in range(len(mydata[i]) - 1):\n",
        "\t\tmydata[i][j] = float(mydata[i][j])\n"
      ],
      "metadata": {
        "id": "8QuxZDK0YmJJ"
      },
      "execution_count": 11,
      "outputs": []
    },
    {
      "cell_type": "code",
      "source": [
        "# Split the data into training and testing sets\n",
        "ratio = 0.7\n",
        "train_data, test_data = splitting(mydata, ratio)\n",
        "\n",
        "print('Total number of examples:', len(mydata))\n",
        "print('Training examples:', len(train_data))\n",
        "print('Test examples:', len(test_data))\n"
      ],
      "metadata": {
        "colab": {
          "base_uri": "https://localhost:8080/"
        },
        "id": "IOcUEcI4Zno6",
        "outputId": "d2523306-8d1f-426a-9bee-8c9f48fc3b4f"
      },
      "execution_count": 12,
      "outputs": [
        {
          "output_type": "stream",
          "name": "stdout",
          "text": [
            "Total number of examples: 767\n",
            "Training examples: 536\n",
            "Test examples: 231\n"
          ]
        }
      ]
    },
    {
      "cell_type": "code",
      "source": [
        "# Train the model\n",
        "info = MeanAndStdDevForClass(train_data)\n",
        "\n",
        "# Test the model\n",
        "predictions = getPredictions(info, test_data)\n",
        "accuracy = accuracy_rate(test_data, predictions)\n",
        "print('Accuracy of the model:', accuracy)\n"
      ],
      "metadata": {
        "colab": {
          "base_uri": "https://localhost:8080/"
        },
        "id": "gjfoxbc5Zq9a",
        "outputId": "ed98a564-5293-41ca-d251-b65784146e4f"
      },
      "execution_count": 15,
      "outputs": [
        {
          "output_type": "stream",
          "name": "stdout",
          "text": [
            "Accuracy of the model: 100.0\n"
          ]
        }
      ]
    }
  ]
}